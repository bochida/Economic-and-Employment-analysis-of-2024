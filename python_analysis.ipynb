{
 "cells": [
  {
   "cell_type": "markdown",
   "metadata": {},
   "source": [
    "Add dataset and check for tables "
   ]
  },
  {
   "cell_type": "code",
   "execution_count": 1,
   "metadata": {},
   "outputs": [
    {
     "name": "stdout",
     "output_type": "stream",
     "text": [
      "dict_keys(['Cover', 'Sumbols', 'Contents', 'Methodological notes', '1.', '2.1.', '2.2', '3.1', '3.2', '3.3', '3.4', '3.5', '3.6', '3.7', '3.8', '3.9', '3.10', '3.11', '3.12', '3.13', '3.14', '4.1', '4.2', '4.3', '4.4', '4.5', '4.6', '5.1', '5.2', '5.3', '5.4', '5.5', '5.6', '5.7', '6.1', '6.2', '6.3', '7.1', '7.2', '7.3', '7.4', '7.5', '7.6', '7.7', '7.8', '7.9', '7.10', '7.11', '7.12', '7.13', '7.14', '7.15', '8.1', '8.2', '8.3', '8.4', '8.5', '8.6', '8.7', '8.8', '8.9', '8.10', '8.11', '8.12', '8.13', '8.14', '8.15', '8.16', '8.17', '8.18', '8.19', '9.1', '9.2'])\n",
      "  2.2 Population by labor force participation status and education\\n  \\\n",
      "0                                             people                   \n",
      "1                                                NaN                   \n",
      "2                                                NaN                   \n",
      "3                                                NaN                   \n",
      "4                                   All population\\n                   \n",
      "\n",
      "  Unnamed: 1                        Unnamed: 2             Unnamed: 3  \\\n",
      "0        NaN                               NaN                    NaN   \n",
      "1   Total \\n  Labor force participation status                    NaN   \n",
      "2        NaN                       labor force            including\\n   \n",
      "3        NaN                               NaN  employed population\\n   \n",
      "4        NaN                               NaN                    NaN   \n",
      "\n",
      "                Unnamed: 4                               Unnamed: 5  \n",
      "0                      NaN                                      NaN  \n",
      "1                      NaN                                      NaN  \n",
      "2                      NaN  persons not included in the labor force  \n",
      "3  unemployed population\\n                                      NaN  \n",
      "4                      NaN                                      NaN  \n"
     ]
    }
   ],
   "source": [
    "import pandas as pd\n",
    "\n",
    "file_path = \"dataset.xls\"\n",
    "sheets = pd.read_excel(file_path, sheet_name=None)  \n",
    "\n",
    "print(sheets.keys())\n",
    "\n",
    "\n",
    "df1 = sheets[\"2.2\"]\n",
    "print(df1.head())  "
   ]
  }
 ],
 "metadata": {
  "kernelspec": {
   "display_name": "Python 3",
   "language": "python",
   "name": "python3"
  },
  "language_info": {
   "codemirror_mode": {
    "name": "ipython",
    "version": 3
   },
   "file_extension": ".py",
   "mimetype": "text/x-python",
   "name": "python",
   "nbconvert_exporter": "python",
   "pygments_lexer": "ipython3",
   "version": "3.12.6"
  }
 },
 "nbformat": 4,
 "nbformat_minor": 2
}
