{
 "cells": [
  {
   "cell_type": "markdown",
   "metadata": {},
   "source": [
    "Add dataset and check for tables "
   ]
  },
  {
   "cell_type": "code",
   "execution_count": 16,
   "metadata": {},
   "outputs": [
    {
     "name": "stdout",
     "output_type": "stream",
     "text": [
      "dict_keys(['Cover', 'Sumbols', 'Contents', 'Methodological notes', '1.', '2.1.', '2.2', '3.1', '3.2', '3.3', '3.4', '3.5', '3.6', '3.7', '3.8', '3.9', '3.10', '3.11', '3.12', '3.13', '3.14', '4.1', '4.2', '4.3', '4.4', '4.5', '4.6', '5.1', '5.2', '5.3', '5.4', '5.5', '5.6', '5.7', '6.1', '6.2', '6.3', '7.1', '7.2', '7.3', '7.4', '7.5', '7.6', '7.7', '7.8', '7.9', '7.10', '7.11', '7.12', '7.13', '7.14', '7.15', '8.1', '8.2', '8.3', '8.4', '8.5', '8.6', '8.7', '8.8', '8.9', '8.10', '8.11', '8.12', '8.13', '8.14', '8.15', '8.16', '8.17', '8.18', '8.19', '9.1', '9.2'])\n",
      "  2.2 Population by labor force participation status and education\\n  \\\n",
      "0                                             people                   \n",
      "1                                                NaN                   \n",
      "2                                                NaN                   \n",
      "3                                                NaN                   \n",
      "4                                   All population\\n                   \n",
      "\n",
      "  Unnamed: 1                        Unnamed: 2             Unnamed: 3  \\\n",
      "0        NaN                               NaN                    NaN   \n",
      "1   Total \\n  Labor force participation status                    NaN   \n",
      "2        NaN                       labor force            including\\n   \n",
      "3        NaN                               NaN  employed population\\n   \n",
      "4        NaN                               NaN                    NaN   \n",
      "\n",
      "                Unnamed: 4                               Unnamed: 5  \n",
      "0                      NaN                                      NaN  \n",
      "1                      NaN                                      NaN  \n",
      "2                      NaN  persons not included in the labor force  \n",
      "3  unemployed population\\n                                      NaN  \n",
      "4                      NaN                                      NaN  \n"
     ]
    }
   ],
   "source": [
    "import pandas as pd\n",
    "import matplotlib as plt\n",
    "import matplotlib.pyplot as plt\n",
    "import seaborn as sns\n",
    "\n",
    "file_path = \"dataset.xls\"\n",
    "df = pd.read_excel(file_path, sheet_name=None)  \n",
    "\n",
    "print(df.keys())\n",
    "\n",
    "\n",
    "df1 = df[\"2.2\"]\n",
    "print(df1.head())  "
   ]
  },
  {
   "cell_type": "markdown",
   "metadata": {},
   "source": [
    "1.\tMain indicators of the labor market of the Republic of Kazakhstan in Q4 2024\n",
    "2.\tLabor force\n",
    "2.1\tPopulation by labor force participation status and age\n",
    "2.2\tPopulation by labor force participation status and education\n",
    "3\tEmployed population\n",
    "3.1\tEmployed population by employment status\n",
    "3.2\tEmployed population by degree of employment\n",
    "3.3\tEmployed population by employment status and age\n",
    "3.4\tEmployed population by employment status and education\n",
    "3.5\t    Employed population by type of economic activity in the main job and status of employment\n",
    "3.6\tEmployed population by type of economic activity in the main job and age\n",
    "3.7\t    Employed population by type of economic activity in the main job and level of education\n",
    "3.8\t    Employees by type of economic activity at the main job and type of employment contract\n",
    "3.9\tEmployed population by occupation (position, profession) at the main job\n",
    "3.10\t    Employed population by occupation at the main job and age\n",
    "3.11\tEmployed population by employment status\n",
    "3.12\tEmployed population by employment status and age\n",
    "3.13\tEmployed population by employment status and education\n",
    "3.14\tEmployed population by economic activity and employment status\n",
    "4.1\t     Employed population by actual hours worked per week at main job and employment status\n",
    "4.2\t     Employed population by actual number of hours worked per week at main job and by age\n",
    "4.3\t     Employed population by the actual number of working hours per week at the main job and types of employment contract\n",
    "4.4\t    Employed population by the actual number of working hours per week at the main job and types of economic activities\n",
    "4.5\t    Employed population by actual number of working hours per week at main job and occupation\n",
    "4.6\tPopulation employed less than the established working hours\n",
    "5\tUnemployed population\n",
    "5.1\tUnemployed population by gender and age\n",
    "5.2\tUnemployment rate and age of the unemployed population\n",
    "5.3\tUnemployment rate and education of the unemployed population\n",
    "5.4\tUnemployed population by reasons of unemployment\n",
    "5.5\tUnemployed population by age  and daration of job search \n",
    "5.6\tUnemployed population daration of job search \n",
    "5.7\tUnemployed population engaged of job search and by employment status, mode of work and method of search \n",
    "6.1\tPersons not included in the labor force by age and reasons of inactivity\n",
    "6.2\tPersons not included in the labor force by reasons of release from their last job\n",
    "6.3\tPersons not included in the labor force by duration of inactivity\n",
    "7.1\tMain indicators of the labor market by regions of the Republic of Kazakhstan\n",
    "7.2\tEmployed population by employment status by regions of the Republic of Kazakhstan\n",
    "7.3\tEmployed population by employment status and education by regions of the Republic of Kazakhstan\n",
    "7.4\tEmployed population in the main job and the status of employment by regions of the Republic of Kazakhstan\n",
    "7.5\t   All types of economic activities\n",
    "7.6\tEmployed population by gender and age by regions of the Republic of Kazakhstan\n",
    "7.7\tTelecommuting population   by regions of the Republic Kazakhstan \n",
    "7.8\tEmployed population by employment status by regions of the Republic of Kazakhstan\n",
    "7.9\t Employed population by employment status by regions of the Republic of Kazakhstan\n",
    "7.10\tEmployed population by employment status and types of economic activity by regions of the Republic of Kazakhstan\n",
    "7.11\tEmployed population by employment status and types of economic activity by regions of the Republic of Kazakhstan\n",
    "7.12\tUnemployed population by gender and age by regions of the Republic of Kazakhstan\n",
    "7.13\tUnemployed for reasons of dismissal from their last job by regions of the Republic of Kazakhstan\n",
    "7.14\tPersons not included in the labor force by age by regions of the Republic Kazakhstan\n",
    "7.15\tPersons not included in the labor force by reasons of inactivity by regions of the Republic Kazakhstan\n",
    "8.1\tOther categories of the employed population by employment status and level of total income\n",
    "8.2\tOther categories of the employed population by type of economic activity in the main job and the level of total income\n",
    "8.3\tProductively employed from other categories of the employed population by type of economic activity in the main job and the level of total income\n",
    "8.4\tProductively employed from among other categories of the employed population by type of economic activity in the main job and the level of total income\n",
    "8.5\tUnproductively employed from among  other categories of the employed population by type of economic activity in the main job and the level of total income\n",
    "8.6\tIndividuals engaged in private practice (registered and active) with incomes above the subsistence level, from among productively employed workers, by type of economic activity in their main job and the level of total income\n",
    "8.7\tMembers of a production cooperative with incomes above the subsistence level, from the number of productively employed workers by type of economic activity in their main job and the level of total income\n",
    "8.8\tEmployed in private farm production for sale (exchange), with incomes above the subsistence level, from number of productively employed workers by economic activity in the main job and the level of aggregate income\n",
    "8.9\tIndependent workers (unregistered) from among unproductively employed workers by type of economic activity in their main job and level of total income\n",
    "8.10\tFounders (participants) of business partnerships and founders, shareholders (participants) of joint-stock companies (unregistered) from among unproductively employed workers by type of economic activity in their main job and level of total income\n",
    "8.11\tIndividual workers (inactive from the number of registered) from among unproductively employed workers by type of economic activity in their main job and level of total income\n",
    "8.12\tIndividuals engaged in private practice (inactive from the number of registered) from among unproductively employed workers by type of economic activity in their main job and level of total income\n",
    "8.13\tIndividual workers (registered and actively active), with incomes below the subsistence level, from among productively employed workers by type of economic activity in their main job and total income\n",
    "8.14\tPersons engaged in economic practice (registered and actively operating), with incomes below the subsistence level, from among productively employed workers by type of activity in their main job and total income.\n",
    "8.15\tMembers of a production cooperative, with incomes below the subsistence level, from among unproductively employed workers by type of economic activity in their main job and the level of total income\n",
    "8.16\tEmployed in a personal subsidiary farm producing products for sale (exchange), with incomes below the subsistence level, from the number of unproductively employed workers of the population by types of economic activity in their main job and the level of total income\n",
    "8.17\tOther categories of the employed population by the level of total income by regions of the Republic of Kazakhstan\n",
    "8.18\tProductively employed from among other categories of the employed population by the level of total income by regions of the Republic of Kazakhstan\n",
    "8.19\tUnroductively employed from among other categories of the employed population by the level of total income by regions of the Republic of Kazakhstan\n",
    "9.1\t Accuracy indicators of statistical observation\n",
    "9.2\tRelative standard error of assessing the results of the survey of employment of the population by regions of the Republic of Kazakhstan "
   ]
  },
  {
   "cell_type": "markdown",
   "metadata": {},
   "source": [
    "1. General Labor Force Participation Rate: In this part i want to analyze general insights about this dataset which include\n",
    "\n",
    "How has the labor force participation rate changed compared to previous quarters?\n",
    "\n",
    "Are there notable differences between male and female participation?\n",
    "\n",
    "Which age groups contribute the most to the labor force?\n",
    "\n",
    "How does education level impact labor force participation?\n"
   ]
  },
  {
   "cell_type": "code",
   "execution_count": 8,
   "metadata": {},
   "outputs": [
    {
     "name": "stdout",
     "output_type": "stream",
     "text": [
      "                                      2. Labor force Unnamed: 1  \\\n",
      "0  2.1 Population by labor force participation st...        NaN   \n",
      "1                                             people              \n",
      "2                                                NaN    Total\\n   \n",
      "3                                                NaN        NaN   \n",
      "4                                                NaN        NaN   \n",
      "\n",
      "                         Unnamed: 2             Unnamed: 3  \\\n",
      "0                               NaN                    NaN   \n",
      "1                               NaN                    NaN   \n",
      "2  Labor force participation status                    NaN   \n",
      "3                       labor force            including\\n   \n",
      "4                               NaN  employed population\\n   \n",
      "\n",
      "                Unnamed: 4                               Unnamed: 5  \n",
      "0                      NaN                                      NaN  \n",
      "1                      NaN                                      NaN  \n",
      "2                      NaN                                      NaN  \n",
      "3                      NaN  persons not included in the labor force  \n",
      "4  unemployed population\\n                                      NaN  \n",
      "  Category  Total Population  Labor Force  Employed Population  \\\n",
      "0    Total          14148747      9645294              9197046   \n",
      "1      Men           6753545      4977221              4766111   \n",
      "2    Women           7395202      4668073              4430935   \n",
      "3    Urban           8923697      6008081              5731350   \n",
      "4    Rural           5225050      3637213              3465696   \n",
      "\n",
      "   Unemployed Population   LFPR (%)  \n",
      "0                 448248  68.170659  \n",
      "1                 211110  73.697902  \n",
      "2                 237138  63.122995  \n",
      "3                 276731  67.327264  \n",
      "4                 171517  69.611066  \n"
     ]
    }
   ],
   "source": [
    "df_labor = df['2.1.']\n",
    "\n",
    "print(df_labor.head())\n",
    "\n",
    "columns = [\"Category\", \"Total Population\", \"Labor Force\", \"Employed Population\", \"Unemployed Population\"]\n",
    "\n",
    "data = {\n",
    "    \"Category\": [\"Total\", \"Men\", \"Women\", \"Urban\", \"Rural\"],\n",
    "    \"Total Population\": [\n",
    "        14148747, 6753545, 7395202, 8923697, 5225050\n",
    "    ],\n",
    "    \"Labor Force\": [\n",
    "        9645294, 4977221, 4668073, 6008081, 3637213\n",
    "    ],\n",
    "    \"Employed Population\": [\n",
    "        9197046, 4766111, 4430935, 5731350, 3465696\n",
    "    ],\n",
    "    \"Unemployed Population\": [\n",
    "        448248, 211110, 237138, 276731, 171517\n",
    "    ]\n",
    "}\n",
    "\n",
    "df_extracted = pd.DataFrame(data)\n",
    "\n",
    "\n",
    "df_extracted[\"LFPR (%)\"] = (df_extracted[\"Labor Force\"] / df_extracted[\"Total Population\"]) * 100 #calculating LFRP\n",
    "\n",
    "print(df_extracted)\n",
    "\n",
    "df_extracted.to_excel(\"extracted_labor_force_data.xlsx\", index=False)\n",
    "\n",
    "\n"
   ]
  },
  {
   "cell_type": "markdown",
   "metadata": {},
   "source": [
    "With python code extracted needed data for calculation and created seperate table for this task. Calculated LFPR by dividing labor force for total population and did some visualization"
   ]
  },
  {
   "cell_type": "code",
   "execution_count": 19,
   "metadata": {},
   "outputs": [
    {
     "name": "stdout",
     "output_type": "stream",
     "text": [
      "  Category  Total Population  Labor Force  Employed Population  \\\n",
      "0    Total          14148747      9645294              9197046   \n",
      "1      Men           6753545      4977221              4766111   \n",
      "2    Women           7395202      4668073              4430935   \n",
      "3    Urban           8923697      6008081              5731350   \n",
      "4    Rural           5225050      3637213              3465696   \n",
      "\n",
      "   Unemployed Population   LFPR (%)  \n",
      "0                 448248  68.170659  \n",
      "1                 211110  73.697902  \n",
      "2                 237138  63.122995  \n",
      "3                 276731  67.327264  \n",
      "4                 171517  69.611066  \n"
     ]
    },
    {
     "name": "stderr",
     "output_type": "stream",
     "text": [
      "C:\\Users\\alizh\\AppData\\Local\\Temp\\ipykernel_11720\\599985914.py:17: FutureWarning: \n",
      "\n",
      "Passing `palette` without assigning `hue` is deprecated and will be removed in v0.14.0. Assign the `x` variable to `hue` and set `legend=False` for the same effect.\n",
      "\n",
      "  sns.barplot(x=\"Category\", y=\"Labor Force\", data=df, palette=\"Blues_r\")\n"
     ]
    },
    {
     "data": {
      "image/png": "[encoded data removed]",
      "text/plain": [
       "<Figure size 1000x600 with 1 Axes>"
      ]
     },
     "metadata": {},
     "output_type": "display_data"
    }
   ],
   "source": [
    "import pandas as pd\n",
    "import matplotlib.pyplot as plt\n",
    "import seaborn as sns\n",
    "\n",
    "# Load Excel file\n",
    "file_path = \"extracted_labor_force_data.xlsx\"  # <-- Change this to your file path\n",
    "df = pd.read_excel(file_path)\n",
    "\n",
    "# Display first few rows to check the data\n",
    "print(df.head())\n",
    "\n",
    "# Convert percentage column to float if needed\n",
    "df[\"LFPR (%)\"] = df[\"LFPR (%)\"].astype(float)\n",
    "\n",
    "# Visualization: Labor Force by Category\n",
    "plt.figure(figsize=(10, 6))\n",
    "sns.barplot(x=\"Category\", y=\"Labor Force\", data=df, palette=\"Blues_r\")\n",
    "plt.title(\"Labor Force by Category\")\n",
    "plt.ylabel(\"Labor Force\")\n",
    "plt.xlabel(\"Category\")\n",
    "plt.xticks(rotation=45)\n",
    "plt.show()\n"
   ]
  },
  {
   "cell_type": "code",
   "execution_count": null,
   "metadata": {},
   "outputs": [],
   "source": []
  }
 ],
 "metadata": {
  "kernelspec": {
   "display_name": "Python 3",
   "language": "python",
   "name": "python3"
  },
  "language_info": {
   "codemirror_mode": {
    "name": "ipython",
    "version": 3
   },
   "file_extension": ".py",
   "mimetype": "text/x-python",
   "name": "python",
   "nbconvert_exporter": "python",
   "pygments_lexer": "ipython3",
   "version": "3.12.6"
  }
 },
 "nbformat": 4,
 "nbformat_minor": 2
}
